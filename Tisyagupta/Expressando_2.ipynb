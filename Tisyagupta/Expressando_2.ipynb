{
 "cells": [
  {
   "cell_type": "code",
   "execution_count": 2,
   "id": "630e9d2e",
   "metadata": {},
   "outputs": [],
   "source": [
    "import cv2 as cv\n",
    "import os\n",
    "import tensorflow as tf"
   ]
  },
  {
   "cell_type": "code",
   "execution_count": 3,
   "id": "382fe865",
   "metadata": {},
   "outputs": [],
   "source": [
    "col=cv.VideoCapture(0)"
   ]
  },
  {
   "cell_type": "code",
   "execution_count": 3,
   "id": "a3f2d301",
   "metadata": {},
   "outputs": [],
   "source": [
    "(width, height) = (130, 100)\n",
    "\n",
    "while (col.isOpened()):\n",
    "    ret, img = col.read()\n",
    "    img=cv.flip(img, 1)\n",
    "    cv.rectangle(img, (20, 20), (250, 250), (255, 0, 0), 3)\n",
    "    cv.imshow(\"RGB Output\", img)\n",
    "    img1 = img[20:250,20:250]\n",
    "    imCopy = img1.copy()\n",
    "    gray = cv.cvtColor(img1, cv.COLOR_BGR2GRAY)\n",
    "    blur = cv.GaussianBlur(gray, (5, 5), 0)\n",
    "    ret, thresh1 = cv.threshold(blur, 10, 255, cv.THRESH_BINARY_INV + cv.THRESH_OTSU)\n",
    "    hand_resize = cv.resize(thresh1, (width, height))\n",
    "    cv.imshow(\"Threshold\", thresh1)\n",
    "    contours, hierarchy = cv.findContours(thresh1, cv.RETR_TREE, cv.CHAIN_APPROX_SIMPLE)\n",
    "    cv.drawContours(imCopy, contours, -1, (0, 255, 0))\n",
    "    cv.imshow('Draw Contours', imCopy)\n",
    "    k = 0xFF & cv.waitKey(10)\n",
    "    if k == 27:\n",
    "        break\n",
    "col.release()\n",
    "cv.destroyAllWindows()\n"
   ]
  },
  {
   "cell_type": "code",
   "execution_count": 8,
   "id": "43fecf64",
   "metadata": {},
   "outputs": [],
   "source": [
    "img1 = cv.imread(r\"C:\\Users\\TISYAGUPTA PYNE\\Downloads\\NASA-Sun.jpg\")\n",
    "\n",
    "img=cv.flip(img1, 1)\n",
    "cv.rectangle(img, (200, 200), (650, 650), (140, 200, 100), 3)\n",
    "cv.imshow(\"RGB Output\", img)\n",
    "\n",
    "imgn = img[400:650,400:650]\n",
    "imCopy = imgn.copy()\n",
    "gray = cv.cvtColor(imgn, cv.COLOR_BGR2GRAY)\n",
    "blur = cv.GaussianBlur(gray, (5, 5), 0)\n",
    "ret, thresh1 = cv.threshold(blur, 10, 255, cv.THRESH_BINARY_INV + cv.THRESH_OTSU)\n",
    "resize = cv.resize(thresh1, (500, 500))\n",
    "cv.imshow(\"Threshold\", thresh1)\n",
    "contours, hierarchy = cv.findContours(thresh1, cv.RETR_TREE, cv.CHAIN_APPROX_SIMPLE)\n",
    "cv.drawContours(imCopy, contours, -1, (0, 255, 0))\n",
    "cv.imshow('Draw Contours', imCopy)\n",
    "\n",
    "interrupt = cv.waitKey(0) & 0xFF\n",
    "\n",
    "if interrupt == 27:\n",
    "    cv.destroyAllWindows()"
   ]
  },
  {
   "cell_type": "code",
   "execution_count": null,
   "id": "ac9f336c",
   "metadata": {},
   "outputs": [],
   "source": []
  }
 ],
 "metadata": {
  "kernelspec": {
   "display_name": "Python 3",
   "language": "python",
   "name": "python3"
  },
  "language_info": {
   "codemirror_mode": {
    "name": "ipython",
    "version": 3
   },
   "file_extension": ".py",
   "mimetype": "text/x-python",
   "name": "python",
   "nbconvert_exporter": "python",
   "pygments_lexer": "ipython3",
   "version": "3.8.8"
  }
 },
 "nbformat": 4,
 "nbformat_minor": 5
}
