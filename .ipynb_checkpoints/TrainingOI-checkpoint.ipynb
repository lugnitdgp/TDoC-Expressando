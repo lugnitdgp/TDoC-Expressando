{
 "cells": [
  {
   "cell_type": "code",
   "execution_count": 1,
   "id": "faae96f7",
   "metadata": {},
   "outputs": [],
   "source": [
    "from keras.models import Sequential\n",
    "from keras.layers import Convolution2D, MaxPooling2D, Flatten, Dense\n",
    "from keras.preprocessing.image import ImageDataGenerator\n"
   ]
  },
  {
   "cell_type": "code",
   "execution_count": 4,
   "id": "3c6dab91",
   "metadata": {},
   "outputs": [
    {
     "name": "stdout",
     "output_type": "stream",
     "text": [
      "Found 865 images belonging to 6 classes.\n",
      "Found 30 images belonging to 6 classes.\n",
      "Epoch 1/24\n",
      "145/145 [==============================] - 6s 33ms/step - loss: 1.8881 - accuracy: 0.3503 - val_loss: 2.0199 - val_accuracy: 0.3667\n",
      "Epoch 2/24\n",
      "145/145 [==============================] - 4s 26ms/step - loss: 0.7299 - accuracy: 0.7555 - val_loss: 1.9466 - val_accuracy: 0.4000\n",
      "Epoch 3/24\n",
      "145/145 [==============================] - 4s 26ms/step - loss: 0.4640 - accuracy: 0.8614 - val_loss: 1.6799 - val_accuracy: 0.3667\n",
      "Epoch 4/24\n",
      "145/145 [==============================] - 4s 25ms/step - loss: 0.4190 - accuracy: 0.8388 - val_loss: 2.0598 - val_accuracy: 0.4333\n",
      "Epoch 5/24\n",
      "145/145 [==============================] - 4s 26ms/step - loss: 0.2567 - accuracy: 0.9080 - val_loss: 2.2239 - val_accuracy: 0.4000\n",
      "Epoch 6/24\n",
      "145/145 [==============================] - 4s 25ms/step - loss: 0.2608 - accuracy: 0.9103 - val_loss: 2.7712 - val_accuracy: 0.4333\n",
      "Epoch 7/24\n",
      "145/145 [==============================] - 4s 25ms/step - loss: 0.2445 - accuracy: 0.9337 - val_loss: 2.1731 - val_accuracy: 0.4667\n",
      "Epoch 8/24\n",
      "145/145 [==============================] - 4s 26ms/step - loss: 0.1987 - accuracy: 0.9225 - val_loss: 1.8919 - val_accuracy: 0.3667\n",
      "Epoch 9/24\n",
      "145/145 [==============================] - 4s 26ms/step - loss: 0.1457 - accuracy: 0.9532 - val_loss: 2.4349 - val_accuracy: 0.4000\n",
      "Epoch 10/24\n",
      "145/145 [==============================] - 4s 26ms/step - loss: 0.0940 - accuracy: 0.9771 - val_loss: 2.3527 - val_accuracy: 0.4333\n",
      "Epoch 11/24\n",
      "145/145 [==============================] - 4s 27ms/step - loss: 0.1143 - accuracy: 0.9605 - val_loss: 2.4939 - val_accuracy: 0.4333\n",
      "Epoch 12/24\n",
      "145/145 [==============================] - 4s 27ms/step - loss: 0.1251 - accuracy: 0.9553 - val_loss: 3.1054 - val_accuracy: 0.4333\n",
      "Epoch 13/24\n",
      "145/145 [==============================] - 4s 27ms/step - loss: 0.1081 - accuracy: 0.9637 - val_loss: 2.7446 - val_accuracy: 0.4667\n",
      "Epoch 14/24\n",
      "145/145 [==============================] - 4s 27ms/step - loss: 0.1183 - accuracy: 0.9587 - val_loss: 3.0388 - val_accuracy: 0.4333\n",
      "Epoch 15/24\n",
      "145/145 [==============================] - 4s 26ms/step - loss: 0.1070 - accuracy: 0.9617 - val_loss: 3.1897 - val_accuracy: 0.4667\n",
      "Epoch 16/24\n",
      "145/145 [==============================] - 4s 27ms/step - loss: 0.0689 - accuracy: 0.9797 - val_loss: 2.7554 - val_accuracy: 0.4333\n",
      "Epoch 17/24\n",
      "145/145 [==============================] - 4s 27ms/step - loss: 0.1332 - accuracy: 0.9504 - val_loss: 3.6933 - val_accuracy: 0.3333\n",
      "Epoch 18/24\n",
      "145/145 [==============================] - 4s 27ms/step - loss: 0.0743 - accuracy: 0.9757 - val_loss: 2.9300 - val_accuracy: 0.5333\n",
      "Epoch 19/24\n",
      "145/145 [==============================] - 4s 27ms/step - loss: 0.0304 - accuracy: 0.9944 - val_loss: 2.6740 - val_accuracy: 0.4333\n",
      "Epoch 20/24\n",
      "145/145 [==============================] - 4s 27ms/step - loss: 0.0336 - accuracy: 0.9927 - val_loss: 3.8067 - val_accuracy: 0.5000\n",
      "Epoch 21/24\n",
      "145/145 [==============================] - 4s 27ms/step - loss: 0.0506 - accuracy: 0.9823 - val_loss: 3.4033 - val_accuracy: 0.4333\n",
      "Epoch 22/24\n",
      "145/145 [==============================] - 4s 26ms/step - loss: 0.0354 - accuracy: 0.9879 - val_loss: 2.9072 - val_accuracy: 0.5000\n",
      "Epoch 23/24\n",
      "145/145 [==============================] - 4s 26ms/step - loss: 0.0413 - accuracy: 0.9833 - val_loss: 3.5864 - val_accuracy: 0.4667\n",
      "Epoch 24/24\n",
      "145/145 [==============================] - 4s 27ms/step - loss: 0.0105 - accuracy: 0.9997 - val_loss: 3.6084 - val_accuracy: 0.4333\n"
     ]
    }
   ],
   "source": [
    "classifier = Sequential()\n",
    "classifier.add(Convolution2D(32, (3, 3), input_shape=(64, 64, 1), activation='tanh'))\n",
    "classifier.add(MaxPooling2D(pool_size=(2, 2)))\n",
    "classifier.add(Convolution2D(32, (3, 3), activation='tanh'))\n",
    "classifier.add(MaxPooling2D(pool_size=(2, 2)))\n",
    "classifier.add(Flatten())\n",
    "classifier.add(Dense(units=128, activation='tanh'))\n",
    "classifier.add(Dense(units=6, activation='softmax'))\n",
    "classifier.compile(optimizer='adam', loss='categorical_crossentropy', metrics=['accuracy'])\n",
    "\n",
    "train_datagen = ImageDataGenerator( rescale=1./255, shear_range=0.2, zoom_range=0.2, horizontal_flip=True)\n",
    "\n",
    "test_datagen = ImageDataGenerator(rescale=1./255)\n",
    "\n",
    "training_set = train_datagen.flow_from_directory(r\"C:\\Users\\TISYAGUPTA PYNE\\tdoc21\\data\\train\", target_size=(64, 64), batch_size=6, color_mode='grayscale', class_mode='categorical')\n",
    "\n",
    "test_set = test_datagen.flow_from_directory(r\"C:\\Users\\TISYAGUPTA PYNE\\tdoc21\\data\\test\", target_size=(64, 64), batch_size=6, color_mode='grayscale', class_mode='categorical')\n",
    "\n",
    "\n",
    "classifier.fit_generator(training_set, epochs=24, validation_data=test_set)\n",
    "\n",
    "model_json = classifier.to_json()\n",
    "\n",
    "with open(\"model-bw.json1\", \"w\") as json_file:\n",
    "    json_file.write(model_json)\n",
    "classifier.save_weights('model-bw1.h5')"
   ]
  },
  {
   "cell_type": "code",
   "execution_count": null,
   "id": "1ec4a6ae",
   "metadata": {},
   "outputs": [],
   "source": []
  }
 ],
 "metadata": {
  "kernelspec": {
   "display_name": "Python 3",
   "language": "python",
   "name": "python3"
  },
  "language_info": {
   "codemirror_mode": {
    "name": "ipython",
    "version": 3
   },
   "file_extension": ".py",
   "mimetype": "text/x-python",
   "name": "python",
   "nbconvert_exporter": "python",
   "pygments_lexer": "ipython3",
   "version": "3.8.8"
  }
 },
 "nbformat": 4,
 "nbformat_minor": 5
}
