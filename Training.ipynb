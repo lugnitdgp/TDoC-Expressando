{
 "cells": [
  {
   "cell_type": "code",
   "execution_count": 3,
   "id": "faae96f7",
   "metadata": {},
   "outputs": [],
   "source": [
    "from keras.models import Sequential\n",
    "from keras.layers import Convolution2D, MaxPooling2D, Flatten, Dense\n",
    "from keras.preprocessing.image import ImageDataGenerator\n"
   ]
  },
  {
   "cell_type": "code",
   "execution_count": 4,
   "id": "3c6dab91",
   "metadata": {},
   "outputs": [
    {
     "name": "stdout",
     "output_type": "stream",
     "text": [
      "Found 865 images belonging to 6 classes.\n",
      "Found 30 images belonging to 6 classes.\n"
     ]
    },
    {
     "name": "stderr",
     "output_type": "stream",
     "text": [
      "C:\\Users\\TISYAGUPTA PYNE\\AppData\\Roaming\\Python\\Python38\\site-packages\\keras\\engine\\training.py:1915: UserWarning: `Model.fit_generator` is deprecated and will be removed in a future version. Please use `Model.fit`, which supports generators.\n",
      "  warnings.warn('`Model.fit_generator` is deprecated and '\n"
     ]
    },
    {
     "name": "stdout",
     "output_type": "stream",
     "text": [
      "Epoch 1/15\n",
      "173/173 [==============================] - 46s 99ms/step - loss: 1.5426 - accuracy: 0.3937 - val_loss: 2.6288 - val_accuracy: 0.3667\n",
      "Epoch 2/15\n",
      "173/173 [==============================] - 4s 23ms/step - loss: 0.6237 - accuracy: 0.7594 - val_loss: 3.2433 - val_accuracy: 0.4333\n",
      "Epoch 3/15\n",
      "173/173 [==============================] - 4s 23ms/step - loss: 0.3984 - accuracy: 0.8690 - val_loss: 2.6421 - val_accuracy: 0.4333\n",
      "Epoch 4/15\n",
      "173/173 [==============================] - 4s 22ms/step - loss: 0.2331 - accuracy: 0.9072 - val_loss: 2.8185 - val_accuracy: 0.4000\n",
      "Epoch 5/15\n",
      "173/173 [==============================] - 4s 22ms/step - loss: 0.1822 - accuracy: 0.9445 - val_loss: 2.6229 - val_accuracy: 0.4667\n",
      "Epoch 6/15\n",
      "173/173 [==============================] - 4s 22ms/step - loss: 0.1883 - accuracy: 0.9412 - val_loss: 3.8111 - val_accuracy: 0.4333\n",
      "Epoch 7/15\n",
      "173/173 [==============================] - 4s 22ms/step - loss: 0.1409 - accuracy: 0.9487 - val_loss: 3.9537 - val_accuracy: 0.4000\n",
      "Epoch 8/15\n",
      "173/173 [==============================] - 4s 22ms/step - loss: 0.0981 - accuracy: 0.9581 - val_loss: 3.5851 - val_accuracy: 0.4667\n",
      "Epoch 9/15\n",
      "173/173 [==============================] - 4s 25ms/step - loss: 0.0971 - accuracy: 0.9628 - val_loss: 5.1339 - val_accuracy: 0.4333\n",
      "Epoch 10/15\n",
      "173/173 [==============================] - 873s 5s/step - loss: 0.0483 - accuracy: 0.9832 - val_loss: 4.8346 - val_accuracy: 0.4000\n",
      "Epoch 11/15\n",
      "173/173 [==============================] - 4s 25ms/step - loss: 0.0962 - accuracy: 0.9754 - val_loss: 3.8186 - val_accuracy: 0.4667\n",
      "Epoch 12/15\n",
      "173/173 [==============================] - 5s 27ms/step - loss: 0.0616 - accuracy: 0.9820 - val_loss: 7.2040 - val_accuracy: 0.3667\n",
      "Epoch 13/15\n",
      "173/173 [==============================] - 5s 29ms/step - loss: 0.0353 - accuracy: 0.9867 - val_loss: 8.5210 - val_accuracy: 0.3333\n",
      "Epoch 14/15\n",
      "173/173 [==============================] - 4s 25ms/step - loss: 0.0627 - accuracy: 0.9833 - val_loss: 5.6981 - val_accuracy: 0.4333\n",
      "Epoch 15/15\n",
      "173/173 [==============================] - 4s 21ms/step - loss: 0.0612 - accuracy: 0.9791 - val_loss: 6.4923 - val_accuracy: 0.4667\n"
     ]
    }
   ],
   "source": [
    "classifier = Sequential()\n",
    "classifier.add(Convolution2D(32, (3, 3), input_shape=(64, 64, 1), activation='relu'))\n",
    "classifier.add(MaxPooling2D(pool_size=(2, 2)))\n",
    "classifier.add(Convolution2D(32, (3, 3), activation='relu'))\n",
    "classifier.add(MaxPooling2D(pool_size=(2, 2)))\n",
    "classifier.add(Flatten())\n",
    "classifier.add(Dense(units=128, activation='relu'))\n",
    "classifier.add(Dense(units=6, activation='softmax'))\n",
    "classifier.compile(optimizer='adam', loss='categorical_crossentropy', metrics=['accuracy'])\n",
    "\n",
    "train_datagen = ImageDataGenerator( rescale=1./255, shear_range=0.2, zoom_range=0.2, horizontal_flip=True)\n",
    "\n",
    "test_datagen = ImageDataGenerator(rescale=1./255)\n",
    "\n",
    "training_set = train_datagen.flow_from_directory('data/train', target_size=(64, 64), batch_size=5, color_mode='grayscale', class_mode='categorical')\n",
    "\n",
    "test_set = test_datagen.flow_from_directory('data/test', target_size=(64, 64), batch_size=5, color_mode='grayscale', class_mode='categorical')\n",
    "\n",
    "\n",
    "classifier.fit_generator(training_set, epochs=15, validation_data=test_set)\n",
    "\n",
    "model_json = classifier.to_json()\n",
    "\n",
    "with open(\"model-bw.json\", \"w\") as json_file:\n",
    "    json_file.write(model_json)\n",
    "classifier.save_weights('model-bw.h5')"
   ]
  },
  {
   "cell_type": "code",
   "execution_count": null,
   "id": "00da6f2a",
   "metadata": {},
   "outputs": [],
   "source": []
  }
 ],
 "metadata": {
  "kernelspec": {
   "display_name": "Python 3",
   "language": "python",
   "name": "python3"
  },
  "language_info": {
   "codemirror_mode": {
    "name": "ipython",
    "version": 3
   },
   "file_extension": ".py",
   "mimetype": "text/x-python",
   "name": "python",
   "nbconvert_exporter": "python",
   "pygments_lexer": "ipython3",
   "version": "3.8.8"
  }
 },
 "nbformat": 4,
 "nbformat_minor": 5
}
